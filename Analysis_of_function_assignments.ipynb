{
 "cells": [
  {
   "cell_type": "markdown",
   "id": "480f70a9",
   "metadata": {},
   "source": [
    "# Analysis of assignments in the function body"
   ]
  },
  {
   "cell_type": "markdown",
   "id": "fc46f463",
   "metadata": {},
   "source": [
    "**The main objective of this project is to write a function getFlow() which analyses a body of a function given as an argument and returns an object containing a list of all assignments together with conditions.**\n",
    "\n",
    "The implementation has several flaws inter alia analysing only if/else phrases."
   ]
  },
  {
   "cell_type": "markdown",
   "id": "27c240dd",
   "metadata": {},
   "source": [
    "## Table of contents"
   ]
  },
  {
   "cell_type": "markdown",
   "id": "6c1d748f",
   "metadata": {},
   "source": [
    "<div class=\"toc\">\n",
    "\t<ul class=\"toc-item\">\n",
    "\t\t<li>\n",
    "\t\t\t<span>\n",
    "\t\t\t\t<a href=\"#Implementation\" data-toc-modified-id=\"Implementation\">\n",
    "\t\t\t\t\t<span class=\"toc-item-num\">1.&nbsp;&nbsp;</span>Implementation\n",
    "\t\t\t\t</a>\n",
    "\t\t\t</span>\n",
    "\t\t</li>\n",
    "\t\t<li>\n",
    "\t\t\t<span>\n",
    "\t\t\t\t<a href=\"#Examples\" data-toc-modified-id=\"Examples\">\n",
    "\t\t\t\t\t<span class=\"toc-item-num\">2.&nbsp;&nbsp;</span>Examples\n",
    "\t\t\t\t</a>\n",
    "\t\t\t</span>\n",
    "\t\t</li>\n",
    "\t</ul>\n",
    "</div>"
   ]
  },
  {
   "cell_type": "markdown",
   "id": "47067778",
   "metadata": {},
   "source": [
    "## Implementation"
   ]
  },
  {
   "cell_type": "code",
   "execution_count": 1,
   "id": "5f4a4f9d",
   "metadata": {},
   "outputs": [],
   "source": [
    "library(stringr)\n",
    "\n",
    "#class assignment\n",
    "assignment <- function(obj){\n",
    "  structure(list(a = obj), class = \"assignment\")\n",
    "}\n",
    "\n",
    "#method print for class assignment\n",
    "print.assignment <- function(obj){\n",
    "  print(obj$a, quote=FALSE)\n",
    "}\n",
    "\n",
    "#class assignmentList\n",
    "assignmentList <- function(objs){\n",
    "  structure(list(assignments = objs), class = c(\"assignmentList\",\"assignment\"))\n",
    "}\n",
    "\n",
    "#method print for class assignmentList\n",
    "print.assignmentList <- function(objs){\n",
    "  for (i in 1:length(objs$assignments)){\n",
    "    print(objs$assignments[[i]], quote=FALSE)\n",
    "  }\n",
    "}"
   ]
  },
  {
   "cell_type": "code",
   "execution_count": 2,
   "id": "e6c12ee0",
   "metadata": {},
   "outputs": [],
   "source": [
    "#make pair for left \"{\" and right \"}\"\n",
    "make_pairs <- function(left_brackets, right_brackets){\n",
    "  \n",
    "  bracket_pairs <- c()\n",
    "  \n",
    "  for (i in length(left_brackets):1){\n",
    "    for (j in 1:length(right_brackets)){\n",
    "      if ((left_brackets[[i]] <= right_brackets[[j]])){\n",
    "        bracket_pairs <- c(bracket_pairs, left_brackets[i], right_brackets[j])\n",
    "        left_brackets[i] <- -1\n",
    "        right_brackets[j] <- -1\n",
    "        break\n",
    "      }\n",
    "    }\n",
    "  }\n",
    "  return(bracket_pairs)\n",
    "}"
   ]
  },
  {
   "cell_type": "code",
   "execution_count": 3,
   "id": "e7d37e3c",
   "metadata": {},
   "outputs": [],
   "source": [
    "#check to which intervals belong assignments\n",
    "to_which_interval_belongs <- function(bracket_pairs, assignments){\n",
    "  assignments_in_intervals <- list()\n",
    "  for (i in 1:length(assignments)){\n",
    "    j = 1\n",
    "    while (j <= length(bracket_pairs)){\n",
    "      bracket <- (assignments[i] >= bracket_pairs[j] && assignments[i]<= bracket_pairs[j+1])\n",
    "      assignments_in_intervals <- c(assignments_in_intervals, bracket)\n",
    "      j = j+2\n",
    "    }\n",
    "  }\n",
    "  return(assignments_in_intervals)\n",
    "}"
   ]
  },
  {
   "cell_type": "code",
   "execution_count": 4,
   "id": "54f6d9b0",
   "metadata": {},
   "outputs": [],
   "source": [
    "#determine the conditions of assignments and return an object of class assignmentList\n",
    "check_assigments_conditions <- function(assignments_in_intervals, assignments, ifs, elses, if_elses, f, bracket_pairs){\n",
    "  \n",
    "  left_bracket = 1\n",
    "  left <- bracket_pairs[1:(left_bracket+1)!=(left_bracket+1)]\n",
    "  assignment_base <- list()\n",
    "\n",
    "  intervals_per_assignment = (length(assignments_in_intervals)/length(assignments))\n",
    "  \n",
    "  #for each assignment\n",
    "  for (i in 1:length(assignments)){\n",
    "    conditions <- c()\n",
    "    \n",
    "    #and for each interval\n",
    "    for (j in 1:intervals_per_assignment){\n",
    "      \n",
    "      #check if assignment[interval] == TRUE\n",
    "      if (assignments_in_intervals[intervals_per_assignment*(i-1)+j] == TRUE){\n",
    "\n",
    "        bracket <- ifelse(((intervals_per_assignment*(i-1)+j) %% intervals_per_assignment == 0), intervals_per_assignment,\n",
    "                          (intervals_per_assignment*(i-1)+j) %% intervals_per_assignment)\n",
    "        \n",
    "        #if left[bracket[assignment]] is in ifs\n",
    "        if (left[bracket] %in% ifs) {\n",
    "          \n",
    "          line_if_bracket <- intersect(left[bracket],ifs)\n",
    "          \n",
    "          #determine a condition and append it to the vector of conditions\n",
    "          left_parenthesis <- str_locate_all(f[[line_if_bracket]], \"\\\\(\")\n",
    "          right_parenthesis <- str_locate_all(f[[line_if_bracket]], \"\\\\)\")\n",
    "          \n",
    "          condition <- str_sub(f[[line_if_bracket]], (left_parenthesis[[1]][[1]]+1),\n",
    "                               (right_parenthesis[[1]][[length(right_parenthesis[[1]])]]-1))\n",
    "          conditions <- c(conditions, paste(condition, \"&\"))\n",
    "\n",
    "          #if left[bracket[assignment]] is in if_elses\n",
    "          } else if (left[bracket]  %in% if_elses ) {\n",
    "            \n",
    "            line_if_else_bracket <- intersect(left[bracket],if_elses)\n",
    "            \n",
    "            #determine a condition and append it to the vector of conditions\n",
    "            left_parenthesis <- str_locate_all(f[[line_if_else_bracket]], \"\\\\(\")\n",
    "            right_parenthesis <- str_locate_all(f[[line_if_else_bracket]], \"\\\\)\")\n",
    "            \n",
    "            condition <- str_sub(f[[line_if_else_bracket]], (left_parenthesis[[1]][[1]]+1),\n",
    "                                 (right_parenthesis[[1]][[length(right_parenthesis[[1]])]]-1))\n",
    "            conditions <- c(conditions, paste(condition, \"&\"))\n",
    "            \n",
    "          #if left[bracket[assignment]] is in elses\n",
    "          } else if (left[bracket] %in% elses){\n",
    "            \n",
    "            line_else_bracket <- intersect(left[bracket],elses)\n",
    "            \n",
    "            #assume the function contains if_elses\n",
    "            #and assign FALSE to the penultimate conditional statement (assuming it is if_else)\n",
    "            first_if <- FALSE\n",
    "            \n",
    "            #append conditions to the vector until first_if == TRUE\n",
    "            while (first_if == FALSE){\n",
    "\n",
    "              close_if_bracket <- (line_else_bracket-1)\n",
    "              open_if_bracket <- bracket_pairs[which(bracket_pairs == close_if_bracket)-1]\n",
    "              \n",
    "              #if length open_if_bracket == 0, abort and return the assignment with the conditions set so far\n",
    "              if(length(open_if_bracket) == 0) { break }\n",
    "              \n",
    "              #if length open_if_bracket == 0:\n",
    "              #determine a condition and append it to the vector of conditions\n",
    "              left_parenthesis <- str_locate_all(f[[open_if_bracket]], \"\\\\(\")\n",
    "              right_parenthesis <- str_locate_all(f[[open_if_bracket]], \"\\\\)\")\n",
    "              \n",
    "              condition <- str_sub(f[[open_if_bracket]], (left_parenthesis[[1]][[1]]+1),\n",
    "                                   (right_parenthesis[[1]][[length(right_parenthesis[[1]])]]-1))\n",
    "              conditions <- c(conditions, paste(\"not\", condition, \"&\"))\n",
    "          \n",
    "              line_else_bracket <- open_if_bracket\n",
    "              \n",
    "              #check if first_if equals if (or else_if) \n",
    "              first_if <- ifelse(line_else_bracket %in% ifs, TRUE, FALSE)\n",
    "            }\n",
    "          }\n",
    "      }\n",
    "    }\n",
    "    \n",
    "    #create (un)conditional assignment as an object of class assignment\n",
    "    a <- capture.output(cat(str_pad(f[[assignments[[i]]]], width = 60, side = \"right\"), \"|||\", rev(conditions), \"TRUE\\n\"))\n",
    "    assign_one <- assignment(a)\n",
    "    \n",
    "    #append an object of class assignment to a list assignment_base\n",
    "    assignment_base <- append(assignment_base, assign_one)\n",
    "  }\n",
    "  \n",
    "  #create and return an object of class assignmentList\n",
    "  assignment_inf <- assignmentList(assignment_base)\n",
    "  return(assignment_inf)\n",
    "}"
   ]
  },
  {
   "cell_type": "code",
   "execution_count": 5,
   "id": "6a1be4cb",
   "metadata": {},
   "outputs": [],
   "source": [
    "#main function\n",
    "getFlow <- function(func){\n",
    "  \n",
    "  f <- deparse(body(func))\n",
    "  \n",
    "  #the lines where it appears: \"<-\", \"if\", \"else\", \"else if\"\n",
    "  assignments <- str_which(f, \"<-\")\n",
    "  ifs <- str_which(f, \"if\")\n",
    "  elses <- str_which(f, \"else\")\n",
    "  if_elses <- str_which(f, \"else if\")\n",
    "\n",
    "  #if if_elses exist, determine separable parts\n",
    "  if (length(if_elses) != 0){\n",
    "    ifs <- setdiff(ifs,if_elses)\n",
    "    elses <- setdiff(elses,if_elses)\n",
    "  }\n",
    "  \n",
    "  #the lines where it appears: \"{\", \"}\"\n",
    "  left_brackets <- str_which(f, \"\\\\{\")\n",
    "  left_brackets <- left_brackets[-1]\n",
    "  right_brackets <- str_which(f, \"\\\\}\")\n",
    "  right_brackets <- right_brackets[-length(right_brackets)]\n",
    "  \n",
    "  #if lack of assignments, return \"No assignments\"\n",
    "  if (length(assignments) == 0){\n",
    "    return(\"No assignments\")\n",
    "  }\n",
    "  \n",
    "  #if lack of ifs, return unconditional assignments as an object of class assignmentList\n",
    "  if (length(left_brackets) == 0){\n",
    "    assignment_base <- list() \n",
    "    for (i in 1:length(assignments)){\n",
    "      \n",
    "      #create unconditional assignment as an object of class assignment\n",
    "      a <- capture.output(cat(str_pad(f[[assignments[[i]]]], width = 60, side = \"right\"), \"||| TRUE\\n\"))\n",
    "      assign_one <- assignment(a) \n",
    "      \n",
    "      #and append an object od class assignment to the list assignment_base\n",
    "      assignment_base <- append(assignment_base, assign_one) \n",
    "    }\n",
    "    \n",
    "    #create and return an object of class assignmentList\n",
    "    assignment_inf <- assignmentList(assignment_base)\n",
    "    return(assignment_inf)\n",
    "    \n",
    "  } else {\n",
    "  \n",
    "  #if ifs exist:\n",
    "  #determine pairs for left \"{\" and right \"}\"\n",
    "  bracket_pairs <- make_pairs(left_brackets, right_brackets)\n",
    "  \n",
    "  #check which assignments belong to which intervals\n",
    "  assignments_in_intervals <- to_which_interval_belongs(bracket_pairs, assignments)\n",
    "  \n",
    "  #determine the conditions of assignments and return an object of class assignmentList\n",
    "  assignment_inf <- check_assigments_conditions(assignments_in_intervals, assignments, ifs, elses, if_elses, f, bracket_pairs)\n",
    "  return(assignment_inf)\n",
    "  }\n",
    "}"
   ]
  },
  {
   "cell_type": "markdown",
   "id": "3de21dbb",
   "metadata": {},
   "source": [
    "## Examples"
   ]
  },
  {
   "cell_type": "code",
   "execution_count": 6,
   "id": "c63d2708",
   "metadata": {},
   "outputs": [
    {
     "data": {
      "text/plain": [
       "[1]     x <- a + rnorm(1)                                        ||| TRUE"
      ]
     },
     "metadata": {},
     "output_type": "display_data"
    }
   ],
   "source": [
    "f <- function(a) {\n",
    "  x <- a + rnorm(1)\n",
    "  x\n",
    "}\n",
    "\n",
    "fFlow <- getFlow(f)\n",
    "fFlow"
   ]
  },
  {
   "cell_type": "code",
   "execution_count": 7,
   "id": "c3dca0ae",
   "metadata": {},
   "outputs": [
    {
     "data": {
      "text/plain": [
       "[1]     b <- abs(b)                                              ||| TRUE\n",
       "[1]     x <- a^b                                                 ||| TRUE"
      ]
     },
     "metadata": {},
     "output_type": "display_data"
    }
   ],
   "source": [
    "f <- function(a, b) {\n",
    "  b <- abs(b)\n",
    "  x <- a ^ b\n",
    "  x\n",
    "}\n",
    "\n",
    "fFlow <- getFlow(f)\n",
    "fFlow"
   ]
  },
  {
   "cell_type": "code",
   "execution_count": 8,
   "id": "f2131345",
   "metadata": {},
   "outputs": [
    {
     "data": {
      "text/plain": [
       "[1]         x <- z^b                                             ||| not z <= 0 & TRUE"
      ]
     },
     "metadata": {},
     "output_type": "display_data"
    }
   ],
   "source": [
    "f <- function(z, b) {\n",
    "  if( z <= 0) {\n",
    "    stop(\"Only positive values of z are allowed.\", call. = FALSE)\n",
    "  } else {\n",
    "    x <- z ^ b\n",
    "  }\n",
    "  x\n",
    "}\n",
    "\n",
    "fFlow <- getFlow(f)\n",
    "fFlow"
   ]
  },
  {
   "cell_type": "code",
   "execution_count": 9,
   "id": "67036a65",
   "metadata": {},
   "outputs": [
    {
     "data": {
      "text/plain": [
       "[1]     x <- rnorm(1)                                            ||| TRUE\n",
       "[1]         a <- abs(a)                                          ||| a < 0 & TRUE\n",
       "[1]             y <- a^2                                         ||| a < 0 & b == 2L & TRUE\n",
       "[1]             y <- y + x                                       ||| a < 0 & b == 2L & TRUE\n",
       "[1]         y <- a^b                                             ||| not a < 0 & TRUE\n",
       "[1]         y <- y + x                                           ||| not a < 0 & TRUE"
      ]
     },
     "metadata": {},
     "output_type": "display_data"
    }
   ],
   "source": [
    "f <- function(a, b) {\n",
    "  x <- rnorm(1)\n",
    "  if(a < 0)\n",
    "  {\n",
    "    a <- abs(a)\n",
    "    if(b == 2L)\n",
    "    {\n",
    "      y <- a ^ 2\n",
    "      y <- y + x\n",
    "    }\n",
    "  } else\n",
    "  {\n",
    "    y <- a ^ b\n",
    "    y <- y + x\n",
    "  }\n",
    "  y\n",
    "}\n",
    "\n",
    "fFlow <- getFlow(f)\n",
    "fFlow"
   ]
  },
  {
   "cell_type": "code",
   "execution_count": 10,
   "id": "77d5c79a",
   "metadata": {
    "scrolled": false
   },
   "outputs": [
    {
     "data": {
      "text/plain": [
       "[1]     q <- c(\"Asia\", \"Japan\", \"Tokyo\", \"Ginza\")                ||| TRUE\n",
       "[1]         y <- \"Europe\"                                        ||| q[1] == \"Europe\" & TRUE\n",
       "[1]         y <- \"Asia\"                                          ||| q[1] == \"Asia\" & TRUE\n",
       "[1]             yy <- \"Asia China\"                               ||| q[1] == \"Asia\" & q[2] == \"China\" & TRUE\n",
       "[1]             yy <- \"Asia Japan\"                               ||| q[1] == \"Asia\" & q[2] == \"Japan\" & TRUE\n",
       "[1]                 yyy <- \"Asia Japan Tokyo\"                    ||| q[1] == \"Asia\" & q[2] == \"Japan\" & q[3] == \"Tokyo\" & TRUE\n",
       "[1]                   yyyy <- \"Asia Japan Tokyo Ginza\"           ||| q[1] == \"Asia\" & q[2] == \"Japan\" & q[3] == \"Tokyo\" & q[4] == \"Ginza\" & TRUE\n",
       "[1]                   yyyy <- \"Asia Japan Tokyo Zoo\"             ||| q[1] == \"Asia\" & q[2] == \"Japan\" & q[3] == \"Tokyo\" & q[4] == \"Zoo\" & TRUE\n",
       "[1]                   yyyy <- \"No more attractions\"              ||| q[1] == \"Asia\" & q[2] == \"Japan\" & q[3] == \"Tokyo\" & not q[4] == \"Ginza\" & not q[4] == \"Zoo\" & TRUE\n",
       "[1]                 yyy <- \"Asia Japan Osaka\"                    ||| q[1] == \"Asia\" & q[2] == \"Japan\" & q[3] == \"Osaka\" & TRUE\n",
       "[1]                 yyy <- \"No more cities\"                      ||| q[1] == \"Asia\" & q[2] == \"Japan\" & not q[3] == \"Tokyo\" & not q[3] == \"Osaka\" & TRUE\n",
       "[1]             yy <- \"No more countries\"                        ||| q[1] == \"Asia\" & not q[2] == \"China\" & not q[2] == \"Japan\" & TRUE\n",
       "[1]         y <- \"Africa\"                                        ||| q[1] == \"Africa\" & TRUE\n",
       "[1]         y <- \"No more continents\"                            ||| not q[1] == \"Europe\" & not q[1] == \"Asia\" & not q[1] == \"Africa\" & TRUE"
      ]
     },
     "metadata": {},
     "output_type": "display_data"
    }
   ],
   "source": [
    "f <- function(a, b) {\n",
    "  q <- c(\"Asia\", \"Japan\", \"Tokyo\", \"Ginza\")\n",
    "  if (q[1] == \"Europe\") {\n",
    "    y <- \"Europe\"\n",
    "  } else if (q[1] == \"Asia\") {\n",
    "    y <- \"Asia\"\n",
    "    if (q[2] == \"China\") {\n",
    "      yy <- \"Asia China\"\n",
    "    } else if (q[2] == \"Japan\") {\n",
    "      yy <- \"Asia Japan\"\n",
    "      if (q[3] == \"Tokyo\") {\n",
    "        yyy <- \"Asia Japan Tokyo\"\n",
    "        if (q[4] == \"Ginza\") {\n",
    "          yyyy <-  \"Asia Japan Tokyo Ginza\"\n",
    "        } else if (q[4] == \"Zoo\") {\n",
    "          yyyy <-  \"Asia Japan Tokyo Zoo\"\n",
    "        } else {\n",
    "          yyyy <- \"No more attractions\"\n",
    "        }\n",
    "      } else if (q[3] == \"Osaka\"){\n",
    "        yyy <- \"Asia Japan Osaka\"\n",
    "      } else {\n",
    "        yyy <- \"No more cities\"\n",
    "      }\n",
    "    } else {\n",
    "      yy <- \"No more countries\"\n",
    "    }\n",
    "  } else if (q[1] == \"Africa\") {\n",
    "    y <- \"Africa\"\n",
    "  } else {\n",
    "    y <- \"No more continents\"\n",
    "  }\n",
    "}\n",
    "\n",
    "fFlow <- getFlow(f)\n",
    "fFlow"
   ]
  },
  {
   "cell_type": "code",
   "execution_count": 11,
   "id": "296660d5",
   "metadata": {},
   "outputs": [
    {
     "data": {
      "text/html": [
       "'No assignments'"
      ],
      "text/latex": [
       "'No assignments'"
      ],
      "text/markdown": [
       "'No assignments'"
      ],
      "text/plain": [
       "[1] \"No assignments\""
      ]
     },
     "metadata": {},
     "output_type": "display_data"
    }
   ],
   "source": [
    "f <- function(a, b){\n",
    "  \n",
    "  if (2==1) {\n",
    "    print(1)\n",
    "  } else {\n",
    "    print(2)\n",
    "  }\n",
    "}\n",
    "\n",
    "fFlow <- getFlow(f)\n",
    "fFlow"
   ]
  }
 ],
 "metadata": {
  "kernelspec": {
   "display_name": "R",
   "language": "R",
   "name": "ir"
  },
  "language_info": {
   "codemirror_mode": "r",
   "file_extension": ".r",
   "mimetype": "text/x-r-source",
   "name": "R",
   "pygments_lexer": "r",
   "version": "3.6.1"
  }
 },
 "nbformat": 4,
 "nbformat_minor": 5
}
