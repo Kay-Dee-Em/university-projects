{
 "cells": [
  {
   "cell_type": "markdown",
   "metadata": {},
   "source": [
    "# Reinforcement Learning in Cart Pole game"
   ]
  },
  {
   "cell_type": "markdown",
   "metadata": {},
   "source": [
    "**The main objective of this project is to write an algorithm that would reach a score over 195 points per 1000 tries in Cart Pole game.**"
   ]
  },
  {
   "cell_type": "markdown",
   "metadata": {},
   "source": [
    "## Cart Pole\n",
    "*A pole is attached by an un-actuated joint to a cart, which moves along a frictionless track. The system is controlled by applying a force of +1 or -1 to the cart. The pendulum starts upright, and the goal is to prevent it from falling over. A reward of +1 is provided for every timestep that the pole remains upright. The episode ends when the pole is more than 15 degrees from vertical, or the cart moves more than 2.4 units from the center.* \n",
    "\n",
    "source: https://gym.openai.com/envs/CartPole-v1/"
   ]
  },
  {
   "cell_type": "markdown",
   "metadata": {},
   "source": [
    "<video controls src=\"data/Cart_Pole.mp4\" width = 300 height = 200 loop = TRUE/>"
   ]
  },
  {
   "cell_type": "markdown",
   "metadata": {},
   "source": [
    "The idea for solving the problem (the physical part) was taken from: https://towardsdatascience.com/how-to-beat-the-cartpole-game-in-5-lines-5ab4e738c93f </br>Following the words from the article *\"So the next time we apply any machine learning algorithm, it’s always better to check for existing knowledge first.\"*, to solve the task, I used basic laws of physics. An algorithm that always wins was obtained. The points are shown in the graph."
   ]
  },
  {
   "cell_type": "code",
   "execution_count": 8,
   "metadata": {},
   "outputs": [
    {
     "data": {
      "image/png": "[encoded data removed]",
      "text/plain": [
       "Figure(PyObject <Figure size 640x480 with 1 Axes>)"
      ]
     },
     "metadata": {},
     "output_type": "display_data"
    },
    {
     "name": "stdout",
     "output_type": "stream",
     "text": [
      "\n",
      "1000.0\n"
     ]
    },
    {
     "data": {
      "text/plain": [
       "PyObject Text(24.000000000000007, 0.5, 'Reward')"
      ]
     },
     "execution_count": 8,
     "metadata": {},
     "output_type": "execute_result"
    }
   ],
   "source": [
    "using ReinforcementLearningBase, ReinforcementLearningEnvironments\n",
    "using Flux, GR, PyPlot\n",
    "import StatsBase.sample, StatsBase.Weights\n",
    "\n",
    "env = CartPoleEnv(;max_steps = 1000);\n",
    "obs = RLBase.reset!(env)\n",
    "\n",
    "env_state = env.state\n",
    "\n",
    "function physics(env_state)\n",
    "    angle = env.state[3]\n",
    "    angle_velocity = env.state[4]\n",
    "    if abs(angle) < 0.03\n",
    "        angle_velocity < 0.0 ? (return 1.0) : (return 2.0)\n",
    "    else\n",
    "        angle < 0.0 ? (return 1.0) : (return 2.0)                \n",
    "    end\n",
    "end\n",
    "\n",
    "function human_learning!(episodes::Int)\n",
    "    ep = 1.0\n",
    "    sum_rewards = 0.0\n",
    "    rewards = []\n",
    "    reward = []\n",
    "    while ep ≤ episodes\n",
    "        obs\n",
    "        action = physics(env.state)\n",
    "        env(action)\n",
    "        z = deepcopy(RLBase.reward(env))\n",
    "        sum_rewards += z\n",
    "        push!(reward, z)\n",
    "        ep += 1.0\n",
    "    end\n",
    "    return sum_rewards, reward\n",
    "end\n",
    "\n",
    "sum_rewards, reward = human_learning!(1000);\n",
    "println(\"\\n\",sum_rewards)\n",
    "\n",
    "PyPlot.plot(reward)\n",
    "PyPlot.xlabel(\"Time\")\n",
    "PyPlot.ylabel(\"Reward\")"
   ]
  }
 ],
 "metadata": {
  "kernelspec": {
   "display_name": "Julia 1.6.1",
   "language": "julia",
   "name": "julia-1.6"
  },
  "language_info": {
   "file_extension": ".jl",
   "mimetype": "application/julia",
   "name": "julia",
   "version": "1.6.1"
  }
 },
 "nbformat": 4,
 "nbformat_minor": 4
}
